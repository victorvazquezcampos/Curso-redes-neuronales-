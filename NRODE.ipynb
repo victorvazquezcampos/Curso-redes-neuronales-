{
  "nbformat": 4,
  "nbformat_minor": 0,
  "metadata": {
    "colab": {
      "provenance": [],
      "authorship_tag": "ABX9TyOnZRboQgN6sCzjTU8bDFrg",
      "include_colab_link": true
    },
    "kernelspec": {
      "name": "python3",
      "display_name": "Python 3"
    },
    "language_info": {
      "name": "python"
    }
  },
  "cells": [
    {
      "cell_type": "markdown",
      "metadata": {
        "id": "view-in-github",
        "colab_type": "text"
      },
      "source": [
        "<a href=\"https://colab.research.google.com/github/victorvazquezcampos/Curso-redes-neuronales-/blob/main/NRODE.ipynb\" target=\"_parent\"><img src=\"https://colab.research.google.com/assets/colab-badge.svg\" alt=\"Open In Colab\"/></a>"
      ]
    },
    {
      "cell_type": "code",
      "execution_count": 5,
      "metadata": {
        "id": "h0H89eUEY_eu"
      },
      "outputs": [],
      "source": [
        "# librerias \n",
        "# paqueterias\n",
        "\n",
        "import tensorflow as tf\n",
        "import matplotlib\n",
        "from tensorflow import keras\n",
        "from keras.models import Sequential\n",
        "from keras.layers import Dense\n",
        "from keras.layers import Dropout\n",
        "from keras.optimizers import RMSprop\n",
        "from keras.optimizers import Adam\n",
        "\n",
        "class ODEsolver(Sequential):\n",
        "   loss_tracker = keras.metrics.Mean(name=\"loss\")\n",
        "\n",
        "\n"
      ]
    }
  ]
}